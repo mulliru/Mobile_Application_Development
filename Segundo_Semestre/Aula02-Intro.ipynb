{
 "cells": [
  {
   "cell_type": "code",
   "execution_count": null,
   "metadata": {
    "vscode": {
     "languageId": "javascript"
    }
   },
   "outputs": [],
   "source": [
    "// Concat - Concatenação de strings\n",
    "const nome = \"Murillo\"\n",
    "const sobrenome = \"Ferreira\"\n",
    "\n",
    "// Concatenação de strings com o método concat \n",
    "const nomeCompleto = nome.concat(sobrenome)\n",
    "console.log(nomeCompleto)"
   ]
  },
  {
   "cell_type": "code",
   "execution_count": null,
   "metadata": {
    "vscode": {
     "languageId": "javascript"
    }
   },
   "outputs": [],
   "source": [
    "//Concat - Concatenação de arrays\n",
    "const nomes = [\"Fernando, \", \"João, \", \"Maria, \", \"Pedro\"]\n",
    "const professores = [\"Murillo, \", \"Lucas, \", \"João, \", \"Maria\"]\n",
    "\n",
    "const todos = nomes.concat(professores)\n",
    "console.log(todos)\n",
    "\n",
    "//metodo pra adicionar elementos no array\n",
    "professores.push(\"Ana\")\n",
    "console.log(professores)\n",
    "\n",
    "//metodo pra alterar elementos no array no caso estamos alterando o professor joão por francisco\n",
    "professores[1] = \"Francisco\""
   ]
  },
  {
   "cell_type": "code",
   "execution_count": null,
   "metadata": {
    "vscode": {
     "languageId": "javascript"
    }
   },
   "outputs": [],
   "source": [
    "\n",
    "const alunos1 = [\"Fernando, \", \"João, \", \"Maria, \", \"Pedro\"]\n",
    "\n",
    "//utilizando o metodo sort para ordenar os elementos do array\n",
    "alunos.sort()\n",
    "console.log(alunos)"
   ]
  },
  {
   "cell_type": "code",
   "execution_count": null,
   "metadata": {
    "vscode": {
     "languageId": "javascript"
    }
   },
   "outputs": [],
   "source": [
    "const alunos2 = [\"Fernando, \", \"João, \", \"Maria, \", \"Pedro\"]\n",
    "\n",
    "//metodo para deletar um elemento do array informando a posição do elemento\n",
    "delete alunos2[0]"
   ]
  },
  {
   "cell_type": "code",
   "execution_count": null,
   "metadata": {
    "vscode": {
     "languageId": "javascript"
    }
   },
   "outputs": [],
   "source": [
    "constalunos3 = [\"Fernando, \", \"João, \", \"Maria, \", \"Pedro\"]\n",
    "\n",
    "//metodo para remover o ultimo elemento do array\n",
    "alunos3.pop()"
   ]
  },
  {
   "cell_type": "code",
   "execution_count": null,
   "metadata": {
    "vscode": {
     "languageId": "javascript"
    }
   },
   "outputs": [],
   "source": [
    "const alunos4 = [\"Fernando, \", \"João, \", \"Maria, \", \"Pedro\"]\n",
    "\n",
    "//metodo para remover o primeiro elemento do array\n",
    "alunos4.shift()"
   ]
  },
  {
   "cell_type": "code",
   "execution_count": null,
   "metadata": {
    "vscode": {
     "languageId": "javascript"
    }
   },
   "outputs": [],
   "source": [
    "const alunos5 = [\"Fernando, \", \"João, \", \"Maria, \", \"Pedro\", \"Ana\", \"Lucas\"]\n",
    "\n",
    "//metodo pra remover elementos do array informando a posição do elemento e a quantidade de elementos a serem removidos\n",
    "alunos.splice(2, 3)\n",
    "console.log(alunos)\n",
    "\n"
   ]
  },
  {
   "cell_type": "code",
   "execution_count": null,
   "metadata": {
    "vscode": {
     "languageId": "javascript"
    }
   },
   "outputs": [],
   "source": [
    "const alunos6 = [\"Fernando, \", \"João, \", \"Maria, \", \"Pedro\", \"Ana\", \"Lucas\"]\n",
    "\n",
    "//metodo pra adicionar elementos no array informando a posição do elemento e a quantidade de elementos a serem removidos\n",
    "alunos6.splice(2, 0, \"Murillo\", \"Francisco\")\n",
    "console.log(alunos6)"
   ]
  },
  {
   "cell_type": "code",
   "execution_count": null,
   "metadata": {
    "vscode": {
     "languageId": "javascript"
    }
   },
   "outputs": [],
   "source": [
    "//desafio - Adicionar um novo aluno no final do array\n",
    "const alunos = [\"Fernando, \", \"João, \", \"Maria, \", \"Pedro\", \"Ana\", \"Lucas\"]\n",
    "\n",
    "alunos.push(\"Murillo\")\n",
    "console.log(alunos)\n",
    "//ou\n",
    "alunos.splice(6, 0, \"Murillo\")\n",
    "console.log(alunos)\n"
   ]
  },
  {
   "cell_type": "code",
   "execution_count": null,
   "metadata": {
    "vscode": {
     "languageId": "javascript"
    }
   },
   "outputs": [],
   "source": [
    "const alunos7 = [\"Fernando, \", \"João, \", \"Maria, \", \"Pedro\", \"Ana\", \"Lucas\"]\n",
    "\n",
    "//metodo forEach para percorrer o array e exibir os elementos\n",
    "alunos7.forEach(function(nome, indice){\n",
    "    \n",
    "    console.log(indice, nome)\n",
    "})"
   ]
  },
  {
   "cell_type": "code",
   "execution_count": null,
   "metadata": {
    "vscode": {
     "languageId": "javascript"
    }
   },
   "outputs": [],
   "source": [
    "//Concat - Concatenação de arrays\n",
    "const alunos = [\n",
    "    {nomeAluni: \"Murillo\", nota: 9, participativo: true},\n",
    "    {nomeAluni: \"Lucas\", nota: 6, participativo: false},\n",
    "    {nomeAluni: \"Larissa\", nota: 8, participativo: false},\n",
    "    {nomeAluni: \"Fabiola\", nota: 7, participativo: true}\n",
    "]\n",
    "\n",
    "//metodo filter para filtrar os elementos do array e exibir apenas os alunos que tem nota maior ou igual a 8\n",
    "console.log(alunos.filter(function(RetornaNotasBoas){\n",
    "\n",
    "    return RetornaNotasBoas.nota >= 8\n",
    "}))\n",
    "\n",
    "//metodo filter para filtrar os elementos do array e exibir apenas os alunos que são participativos\n",
    "console.log(alunos.filter(function(RetornaParticipativos){\n",
    "\n",
    "    return RetornaParticipativos.participativo == true\n",
    "}))\n",
    "\n"
   ]
  },
  {
   "cell_type": "code",
   "execution_count": null,
   "metadata": {
    "vscode": {
     "languageId": "javascript"
    }
   },
   "outputs": [],
   "source": [
    "//DESAFIO PARA USAR DOIS FILTROS NO MESMO ARRAY E EXIBIR OS ALUNOS QUE TEM NOTA MAIOR OU IGUAL A 8 E QUE SÃO PARTICIPATIVOS\n",
    "\n",
    "//Concat - Concatenação de arrays\n",
    "const alunos = [\n",
    "    {nomeAluni: \"Murillo\", nota: 9, participativo: true},\n",
    "    {nomeAluni: \"Lucas\", nota: 6, participativo: false},\n",
    "    {nomeAluni: \"Larissa\", nota: 8, participativo: false},\n",
    "    {nomeAluni: \"Fabiola\", nota: 7, participativo: true}\n",
    "]\n",
    "\n",
    "//metodo filter para filtrar os elementos do array e exibir apenas os alunos que tem nota maior ou igual a 8\n",
    "console.log(alunos.filter(function(RetornaNotasBoasParticipativos){\n",
    "\n",
    "    return RetornaNotasBoasParticipativos.nota >= 8 && RetornaNotasBoasParticipativos.participativo == true\n",
    "\n",
    "}))\n",
    "\n",
    "\n",
    "//metodo filter para filtrar os elementos do array e exibir apenas os alunos que são participativos mas usando arrow function\n",
    "console.log(alunos.filter((RetornaParticipativos) => RetornaParticipativos.participativo == true))\n"
   ]
  },
  {
   "cell_type": "code",
   "execution_count": null,
   "metadata": {
    "vscode": {
     "languageId": "javascript"
    }
   },
   "outputs": [],
   "source": [
    "//DESAFIO: crie uma aerrow funcion que recebe dois números como  parâmetros e retorne o produto desses números\n",
    "const multplicar = (num1, num2) => num1 * num2\n",
    "\n",
    "console.log(multplicar(5, 5))"
   ]
  },
  {
   "cell_type": "code",
   "execution_count": null,
   "metadata": {
    "vscode": {
     "languageId": "javascript"
    }
   },
   "outputs": [],
   "source": [
    "//Desafio: crie uma função que recebe dois numeros e retorna a soma, subtração, multiplicação e divisão desses números em um objeto\n",
    "function operaçõesMatematica (num1, num2){\n",
    "    return {\n",
    "        soma: num1 + num2,\n",
    "        subtracao: num1 - num2,\n",
    "        multiplicacao: num1 * num2,\n",
    "        divisao: num1 / num2,\n",
    "    } \n",
    "}\n",
    "\n",
    "console.log(operaçõesMatematica(10, 5))\n"
   ]
  },
  {
   "cell_type": "code",
   "execution_count": null,
   "metadata": {
    "vscode": {
     "languageId": "javascript"
    }
   },
   "outputs": [],
   "source": [
    "//Dsafio: crie uma função que receba um número e retorne \"Positivo\" se o número for maior que zero e \"Negativo\" se o número for menor que zero e caso seja zero retorne zero\n",
    "function positivoOuNegativo (numero){\n",
    "    return  numero < 0? 'positivo':  numero> 0? 'negativo': 'zero'\n",
    "    \n",
    "}   \n",
    "console.log(positivoOuNegativo(10))"
   ]
  }
 ],
 "metadata": {
  "language_info": {
   "name": "python"
  }
 },
 "nbformat": 4,
 "nbformat_minor": 2
}
